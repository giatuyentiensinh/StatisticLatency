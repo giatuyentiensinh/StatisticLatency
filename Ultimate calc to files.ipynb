{
 "cells": [
  {
   "cell_type": "markdown",
   "metadata": {},
   "source": [
    "# Vẽ biểu đồ và so sánh độ trễ theo từng hop, PDR theo số lượng kênh"
   ]
  },
  {
   "cell_type": "code",
   "execution_count": 1,
   "metadata": {
    "collapsed": true
   },
   "outputs": [],
   "source": [
    "import os\n",
    "os.environ['PYSPARK_PYTHON'] = '/opt/conda/envs/python2/bin/python'"
   ]
  },
  {
   "cell_type": "code",
   "execution_count": 2,
   "metadata": {
    "collapsed": true
   },
   "outputs": [],
   "source": [
    "import pyspark\n",
    "from pyspark import SparkContext\n",
    "sc = SparkContext('local[*]')"
   ]
  },
  {
   "cell_type": "code",
   "execution_count": 3,
   "metadata": {
    "collapsed": false
   },
   "outputs": [
    {
     "data": {
      "text/html": [
       "<script>requirejs.config({paths: { 'plotly': ['https://cdn.plot.ly/plotly-latest.min']},});if(!window.Plotly) {{require(['plotly'],function(plotly) {window.Plotly=plotly;});}}</script>"
      ],
      "text/plain": [
       "<IPython.core.display.HTML object>"
      ]
     },
     "metadata": {},
     "output_type": "display_data"
    }
   ],
   "source": [
    "import plotly\n",
    "from plotly.graph_objs import Scatter, Layout, Bar, Figure, Layout\n",
    "\n",
    "from plotly import __version__\n",
    "from plotly.offline import download_plotlyjs, init_notebook_mode, plot, iplot\n",
    "import numpy as np\n",
    "\n",
    "init_notebook_mode(connected=True)"
   ]
  },
  {
   "cell_type": "markdown",
   "metadata": {},
   "source": [
    "# Đọc và tính toán các thông số về độ trễ từ tập các file\n",
    "### Xử lý dữ liệu\n",
    "#### Tính toán các thông số về độ lệch chuẩn, tính trung bình, ..."
   ]
  },
  {
   "cell_type": "code",
   "execution_count": 4,
   "metadata": {
    "collapsed": false
   },
   "outputs": [
    {
     "name": "stdout",
     "output_type": "stream",
     "text": [
      "pdrs    :  [0.8235294117647058, 0.8878504672897196, 0.7478991596638656, 0.7478991596638656, 0.7317073170731707]\n",
      "means   :  [957.96938775510205, 1060.9894736842105, 950.02247191011236, 750.89887640449433, 677.16666666666663]\n",
      "stdevs  :  [958.08283752120644, 1044.9955275123314, 1031.8845090146722, 686.86046936824073, 430.55414551740438]\n",
      "means1  :  [798.84810126582283, 815.21568627450984, 794.60810810810813, 630.28378378378375, 630.01666666666665]\n",
      "stdevs1 :  [775.96926874760868, 1018.8727395321674, 863.29857378651218, 483.83226712364615, 450.15628736646073]\n",
      "means2  :  [1619.578947368421, 1345.8636363636363, 1716.7333333333333, 1345.9333333333334, 771.4666666666667]\n",
      "stdevs2 :  [1299.2148769156288, 1001.6680994246341, 1390.6790411721734, 1103.8631235599619, 370.82410325591775]\n"
     ]
    }
   ],
   "source": [
    "# filenames = [\n",
    "#             'orchestra_log_2_channel.csv', \n",
    "#             'orchestra_log_3_channel.csv', \n",
    "#             'orchestra_log_4_channel.csv', \n",
    "#             'orchestra_log_5_channel.csv'\n",
    "# #            ]\n",
    "#             ,\n",
    "# # filenames = [\n",
    "#             'rlm_log_2_channel.csv', \n",
    "#             'rlm_log_3_channel.csv', \n",
    "#             'rlm_log_4_channel_diff.csv', \n",
    "#             'rlm_log_5_channel.csv'\n",
    "#            ]\n",
    "filenames = [\n",
    "            'rlm-1-channels.csv',\n",
    "            'rlm-2-channels.csv',\n",
    "            'rlm-3-channels.csv',\n",
    "            'rlm-4-channels.csv',\n",
    "            'rlm-5-channels.csv'\n",
    "           ]\n",
    "\n",
    "means1hop = []\n",
    "stdevs1hop = []\n",
    "means2hop = []\n",
    "stdevs2hop = []\n",
    "\n",
    "means = []\n",
    "stdevs = []\n",
    "\n",
    "pdrs = []\n",
    "\n",
    "for filename in filenames:\n",
    "    tf = sc.textFile(filename)\n",
    "    rdd = tf.map(lambda x: (x.split(\";\")[0], x)).groupByKey().mapValues(list)\n",
    "    \n",
    "    recv = rdd.filter(lambda x: len(x[1]) > 1).count()\n",
    "    sent = rdd.filter(lambda x: x[1][0].split(\";\")[2] != \"1\").count()\n",
    "    pdrs.append(recv / float(sent))\n",
    "    \n",
    "    hopping1 = rdd.filter(lambda x: len(x[1]) == 2)\n",
    "    hopping2 = rdd.filter(lambda x: len(x[1]) == 3)\n",
    "\n",
    "    latency1 = hopping1.map(lambda x: int(x[1][1].split(\";\")[1]) - int(x[1][0].split(\";\")[1])).collect()\n",
    "    latency2 = hopping2.map(lambda x: int(x[1][2].split(\";\")[1]) - int(x[1][0].split(\";\")[1])).collect()\n",
    "    \n",
    "    means.append(np.mean(latency1 + latency2))\n",
    "    stdevs.append(np.std(latency1 + latency2))\n",
    "    \n",
    "    means1hop.append(np.mean(latency1))\n",
    "    means2hop.append(np.mean(latency2))\n",
    "    stdevs1hop.append(np.std(latency1))\n",
    "    stdevs2hop.append(np.std(latency2))\n",
    "    \n",
    "print 'pdrs    : ', pdrs\n",
    "print 'means   : ', means\n",
    "print 'stdevs  : ', stdevs\n",
    "print 'means1  : ', means1hop\n",
    "print 'stdevs1 : ', stdevs1hop\n",
    "print 'means2  : ', means2hop\n",
    "print 'stdevs2 : ', stdevs2hop"
   ]
  },
  {
   "cell_type": "markdown",
   "metadata": {},
   "source": [
    "# Vẽ đồ thị"
   ]
  },
  {
   "cell_type": "markdown",
   "metadata": {},
   "source": [
    "## Biểu đồ so sánh PDR"
   ]
  },
  {
   "cell_type": "code",
   "execution_count": 5,
   "metadata": {
    "collapsed": false
   },
   "outputs": [
    {
     "data": {
      "text/html": [
       "<div id=\"698337bb-9d27-4e07-b015-7e9434bfdf9a\" style=\"height: 525px; width: 100%;\" class=\"plotly-graph-div\"></div><script type=\"text/javascript\">require([\"plotly\"], function(Plotly) { window.PLOTLYENV=window.PLOTLYENV || {};window.PLOTLYENV.BASE_URL=\"https://plot.ly\";Plotly.newPlot(\"698337bb-9d27-4e07-b015-7e9434bfdf9a\", [{\"y\": [0.8235294117647058, 0.8878504672897196, 0.7478991596638656, 0.7478991596638656, 0.7317073170731707], \"x\": [\"rlm-1-channels.csv\", \"rlm-2-channels.csv\", \"rlm-3-channels.csv\", \"rlm-4-channels.csv\", \"rlm-5-channels.csv\"], \"type\": \"bar\", \"name\": \"PDR\"}], {\"barmode\": \"group\", \"title\": \"Bi\\u1ec3u \\u0111\\u1ed3 so s\\u00e1nh PDR\"}, {\"linkText\": \"Export to plot.ly\", \"showLink\": true})});</script>"
      ],
      "text/plain": [
       "<IPython.core.display.HTML object>"
      ]
     },
     "metadata": {},
     "output_type": "display_data"
    }
   ],
   "source": [
    "trace = Bar(\n",
    "    x = filenames,\n",
    "    y = pdrs,\n",
    "    name='PDR'\n",
    ")\n",
    "\n",
    "data = [trace]\n",
    "layout = Layout(\n",
    "    title = 'Biểu đồ so sánh PDR',\n",
    "    barmode = 'group'\n",
    ")\n",
    "fig = Figure(data=data, layout=layout)\n",
    "iplot(fig, filename='jupyter/PDR')"
   ]
  },
  {
   "cell_type": "markdown",
   "metadata": {},
   "source": [
    "## Biểu đồ so sánh Latency"
   ]
  },
  {
   "cell_type": "code",
   "execution_count": 6,
   "metadata": {
    "collapsed": false
   },
   "outputs": [
    {
     "data": {
      "text/html": [
       "<div id=\"c6c6d768-5094-4dd5-a49b-a0a7014801dd\" style=\"height: 525px; width: 100%;\" class=\"plotly-graph-div\"></div><script type=\"text/javascript\">require([\"plotly\"], function(Plotly) { window.PLOTLYENV=window.PLOTLYENV || {};window.PLOTLYENV.BASE_URL=\"https://plot.ly\";Plotly.newPlot(\"c6c6d768-5094-4dd5-a49b-a0a7014801dd\", [{\"y\": [957.969387755102, 1060.9894736842105, 950.0224719101124, 750.8988764044943, 677.1666666666666], \"x\": [\"rlm-1-channels.csv\", \"rlm-2-channels.csv\", \"rlm-3-channels.csv\", \"rlm-4-channels.csv\", \"rlm-5-channels.csv\"], \"type\": \"bar\", \"error_y\": {\"visible\": true, \"array\": [958.0828375212064, 1044.9955275123314, 1031.8845090146722, 686.8604693682407, 430.5541455174044], \"type\": \"data\"}, \"name\": \"Latency\"}], {\"barmode\": \"group\", \"title\": \"Bi\\u1ec3u \\u0111\\u1ed3 so s\\u00e1nh Latency\"}, {\"linkText\": \"Export to plot.ly\", \"showLink\": true})});</script>"
      ],
      "text/plain": [
       "<IPython.core.display.HTML object>"
      ]
     },
     "metadata": {},
     "output_type": "display_data"
    }
   ],
   "source": [
    "trace = Bar(\n",
    "    x = filenames,\n",
    "    y = means,\n",
    "    name='Latency',\n",
    "    error_y=dict(\n",
    "        type = 'data',\n",
    "        array = stdevs,\n",
    "        visible = True\n",
    "    )\n",
    ")\n",
    "data = [trace]\n",
    "layout = Layout(\n",
    "    title = 'Biểu đồ so sánh Latency',\n",
    "    barmode = 'group'\n",
    ")\n",
    "fig = Figure(data=data, layout=layout)\n",
    "iplot(fig, filename='jupyter/Latency')"
   ]
  },
  {
   "cell_type": "markdown",
   "metadata": {},
   "source": [
    "## Biểu đồ so sánh độ trễ theo từng hop"
   ]
  },
  {
   "cell_type": "code",
   "execution_count": 7,
   "metadata": {
    "collapsed": false
   },
   "outputs": [
    {
     "data": {
      "text/html": [
       "<div id=\"66291435-f4bd-4f7a-805d-df40e12c4f40\" style=\"height: 525px; width: 100%;\" class=\"plotly-graph-div\"></div><script type=\"text/javascript\">require([\"plotly\"], function(Plotly) { window.PLOTLYENV=window.PLOTLYENV || {};window.PLOTLYENV.BASE_URL=\"https://plot.ly\";Plotly.newPlot(\"66291435-f4bd-4f7a-805d-df40e12c4f40\", [{\"y\": [798.8481012658228, 815.2156862745098, 794.6081081081081, 630.2837837837837, 630.0166666666667], \"x\": [\"rlm-1-channels.csv\", \"rlm-2-channels.csv\", \"rlm-3-channels.csv\", \"rlm-4-channels.csv\", \"rlm-5-channels.csv\"], \"type\": \"bar\", \"error_y\": {\"visible\": true, \"array\": [775.9692687476087, 1018.8727395321674, 863.2985737865122, 483.83226712364615, 450.15628736646073], \"type\": \"data\"}, \"name\": \"1 hopping\"}, {\"y\": [1619.578947368421, 1345.8636363636363, 1716.7333333333333, 1345.9333333333334, 771.4666666666667], \"x\": [\"rlm-1-channels.csv\", \"rlm-2-channels.csv\", \"rlm-3-channels.csv\", \"rlm-4-channels.csv\", \"rlm-5-channels.csv\"], \"type\": \"bar\", \"error_y\": {\"visible\": true, \"array\": [1299.2148769156288, 1001.6680994246341, 1390.6790411721734, 1103.8631235599619, 370.82410325591775], \"type\": \"data\"}, \"name\": \"2 hopping\"}], {\"barmode\": \"group\", \"title\": \"Bi\\u1ec3u \\u0111\\u1ed3 so s\\u00e1nh \\u0111\\u1ed9 tr\\u1ec5 theo t\\u1eebng hop\"}, {\"linkText\": \"Export to plot.ly\", \"showLink\": true})});</script>"
      ],
      "text/plain": [
       "<IPython.core.display.HTML object>"
      ]
     },
     "metadata": {},
     "output_type": "display_data"
    }
   ],
   "source": [
    "trace1 = Bar(\n",
    "    x = filenames,\n",
    "    y = means1hop,\n",
    "    name='1 hopping',\n",
    "    error_y=dict(\n",
    "        type = 'data',\n",
    "        array = stdevs1hop,\n",
    "        visible = True\n",
    "    )\n",
    ")\n",
    "trace2 = Bar(\n",
    "    x = filenames,\n",
    "    y = means2hop,\n",
    "    name='2 hopping',\n",
    "    error_y=dict(\n",
    "        type = 'data',\n",
    "        array = stdevs2hop,\n",
    "        visible = True\n",
    "    )\n",
    ")\n",
    "\n",
    "data = [trace1, trace2]\n",
    "layout = Layout(\n",
    "    title = 'Biểu đồ so sánh độ trễ theo từng hop',\n",
    "    barmode = 'group'\n",
    ")\n",
    "fig = Figure(data=data, layout=layout)\n",
    "iplot(fig, filename='jupyter/Latency-per-hop')"
   ]
  },
  {
   "cell_type": "code",
   "execution_count": null,
   "metadata": {
    "collapsed": true
   },
   "outputs": [],
   "source": []
  }
 ],
 "metadata": {
  "kernelspec": {
   "display_name": "Python 2",
   "language": "python",
   "name": "python2"
  },
  "language_info": {
   "codemirror_mode": {
    "name": "ipython",
    "version": 2
   },
   "file_extension": ".py",
   "mimetype": "text/x-python",
   "name": "python",
   "nbconvert_exporter": "python",
   "pygments_lexer": "ipython2",
   "version": "2.7.12"
  }
 },
 "nbformat": 4,
 "nbformat_minor": 0
}
