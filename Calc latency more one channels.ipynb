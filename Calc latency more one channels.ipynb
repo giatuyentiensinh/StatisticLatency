{
 "cells": [
  {
   "cell_type": "code",
   "execution_count": 1,
   "metadata": {
    "collapsed": true
   },
   "outputs": [],
   "source": [
    "import os\n",
    "os.environ['PYSPARK_PYTHON'] = '/opt/conda/envs/python2/bin/python'"
   ]
  },
  {
   "cell_type": "code",
   "execution_count": 2,
   "metadata": {
    "collapsed": true
   },
   "outputs": [],
   "source": [
    "import pyspark\n",
    "from pyspark.sql import SQLContext, Row\n",
    "from pyspark import SparkContext\n",
    "sc = SparkContext('local[*]')"
   ]
  },
  {
   "cell_type": "code",
   "execution_count": 3,
   "metadata": {
    "collapsed": false
   },
   "outputs": [
    {
     "data": {
      "text/html": [
       "<script>requirejs.config({paths: { 'plotly': ['https://cdn.plot.ly/plotly-latest.min']},});if(!window.Plotly) {{require(['plotly'],function(plotly) {window.Plotly=plotly;});}}</script>"
      ],
      "text/plain": [
       "<IPython.core.display.HTML object>"
      ]
     },
     "metadata": {},
     "output_type": "display_data"
    }
   ],
   "source": [
    "import plotly\n",
    "from plotly.graph_objs import Scatter, Layout, Bar, Figure, Layout\n",
    "\n",
    "from plotly import __version__\n",
    "from plotly.offline import download_plotlyjs, init_notebook_mode, plot, iplot\n",
    "import numpy as np\n",
    "\n",
    "init_notebook_mode(connected=True)"
   ]
  },
  {
   "cell_type": "code",
   "execution_count": 4,
   "metadata": {
    "collapsed": false
   },
   "outputs": [
    {
     "name": "stderr",
     "output_type": "stream",
     "text": [
      "/opt/conda/envs/python2/lib/python2.7/site-packages/numpy/core/_methods.py:59: RuntimeWarning:\n",
      "\n",
      "Mean of empty slice.\n",
      "\n",
      "/opt/conda/envs/python2/lib/python2.7/site-packages/numpy/core/_methods.py:82: RuntimeWarning:\n",
      "\n",
      "Degrees of freedom <= 0 for slice\n",
      "\n"
     ]
    },
    {
     "name": "stdout",
     "output_type": "stream",
     "text": [
      "means2  :  [0.50424784507042253, 0.29142639130434783, 0.5212610491803279, 0.31962404166666669, 1.7543259324324325, 0.57806752459016397, 0.87213868518518511, 0.38884072916666668]\n",
      "stdevs2 :  [0.96249663522418483, 0.31959351447577483, 0.8892092513314791, 0.40287274823597413, 4.1765136659689714, 0.42266272895434565, 1.3220068407370758, 0.32987094762729685]\n",
      "means3  :  [1.1017507272727274, 0.62613615555555557, 0.88449544827586202, nan, 1.5898825000000001, nan, 1.1672411764705881, 0.74327255000000003]\n",
      "stdevs3 :  [1.4085788025759958, 0.31217140581595415, 0.89418672768027463, nan, 3.3206666989623708, nan, 0.74813415533022876, 0.49552290627421808]\n"
     ]
    }
   ],
   "source": [
    "filenames = [\n",
    "            'orchestra_log_2_channel.csv', \n",
    "            'orchestra_log_3_channel.csv', \n",
    "            'orchestra_log_4_channel.csv', \n",
    "            'orchestra_log_5_channel.csv'\n",
    "#            ]\n",
    "            ,\n",
    "# filenames = [\n",
    "            'rlm_log_2_channel.csv', \n",
    "            'rlm_log_3_channel.csv', \n",
    "            'rlm_log_4_channel_diff.csv', \n",
    "            'rlm_log_5_channel.csv'\n",
    "           ]\n",
    "means2 = []\n",
    "stdevs2 = []\n",
    "means3 = []\n",
    "stdevs3 = []\n",
    "\n",
    "for filename in filenames:\n",
    "    tf = sc.textFile(filename)\n",
    "    rdd = tf.map(lambda x: (x.split(\";\")[0], x)).groupByKey().mapValues(list)\n",
    "    hopping2 = rdd.filter(lambda x: len(x[1]) == 2)\n",
    "    hopping3 = rdd.filter(lambda x: len(x[1]) == 3)\n",
    "\n",
    "    latency2 = hopping2.map(lambda x: int(x[1][1].split(\";\")[1]) - int(x[1][0].split(\";\")[1])).collect()\n",
    "    latency3 = hopping3.map(lambda x: int(x[1][2].split(\";\")[1]) - int(x[1][0].split(\";\")[1])).collect()\n",
    "    \n",
    "    means2.append(np.mean(latency2) / 1000000)\n",
    "    means3.append(np.mean(latency3) / 1000000)\n",
    "    stdevs2.append(np.std(latency2) / 1000000)\n",
    "    stdevs3.append(np.std(latency3) / 1000000)\n",
    "    \n",
    "print 'means2  : ', means2\n",
    "print 'stdevs2 : ', stdevs2\n",
    "print 'means3  : ', means3\n",
    "print 'stdevs3 : ', stdevs3"
   ]
  },
  {
   "cell_type": "code",
   "execution_count": 5,
   "metadata": {
    "collapsed": false
   },
   "outputs": [
    {
     "data": {
      "text/html": [
       "<div id=\"cb649744-e4be-4989-8296-5a8c6de5e8dc\" style=\"height: 525px; width: 100%;\" class=\"plotly-graph-div\"></div><script type=\"text/javascript\">require([\"plotly\"], function(Plotly) { window.PLOTLYENV=window.PLOTLYENV || {};window.PLOTLYENV.BASE_URL=\"https://plot.ly\";Plotly.newPlot(\"cb649744-e4be-4989-8296-5a8c6de5e8dc\", [{\"y\": [0.5042478450704225, 0.29142639130434783, 0.5212610491803279, 0.3196240416666667, 1.7543259324324325, 0.578067524590164, 0.8721386851851851, 0.3888407291666667], \"x\": [\"orchestra_log_2_channel.csv\", \"orchestra_log_3_channel.csv\", \"orchestra_log_4_channel.csv\", \"orchestra_log_5_channel.csv\", \"rlm_log_2_channel.csv\", \"rlm_log_3_channel.csv\", \"rlm_log_4_channel_diff.csv\", \"rlm_log_5_channel.csv\"], \"type\": \"bar\", \"error_y\": {\"visible\": true, \"array\": [0.9624966352241848, 0.31959351447577483, 0.8892092513314791, 0.40287274823597413, 4.1765136659689714, 0.42266272895434565, 1.3220068407370758, 0.32987094762729685], \"type\": \"data\"}, \"name\": \"1 hopping\"}, {\"y\": [1.1017507272727274, 0.6261361555555556, 0.884495448275862, null, 1.5898825, null, 1.1672411764705881, 0.74327255], \"x\": [\"orchestra_log_2_channel.csv\", \"orchestra_log_3_channel.csv\", \"orchestra_log_4_channel.csv\", \"orchestra_log_5_channel.csv\", \"rlm_log_2_channel.csv\", \"rlm_log_3_channel.csv\", \"rlm_log_4_channel_diff.csv\", \"rlm_log_5_channel.csv\"], \"type\": \"bar\", \"error_y\": {\"visible\": true, \"array\": [1.4085788025759958, 0.31217140581595415, 0.8941867276802746, null, 3.3206666989623708, null, 0.7481341553302288, 0.4955229062742181], \"type\": \"data\"}, \"name\": \"2 hopping\"}], {\"barmode\": \"group\"}, {\"linkText\": \"Export to plot.ly\", \"showLink\": true})});</script>"
      ],
      "text/plain": [
       "<IPython.core.display.HTML object>"
      ]
     },
     "metadata": {},
     "output_type": "display_data"
    }
   ],
   "source": [
    "trace1 = Bar(\n",
    "    x = filenames,\n",
    "    y = means2,\n",
    "    name='1 hopping',\n",
    "    error_y=dict(\n",
    "        type = 'data',\n",
    "        array = stdevs2,\n",
    "        visible = True\n",
    "    )\n",
    ")\n",
    "trace2 = Bar(\n",
    "    x = filenames,\n",
    "    y = means3,\n",
    "    name='2 hopping',\n",
    "    error_y=dict(\n",
    "        type = 'data',\n",
    "        array = stdevs3,\n",
    "        visible = True\n",
    "    )\n",
    ")\n",
    "\n",
    "data = [trace1, trace2]\n",
    "layout = Layout(\n",
    "    barmode='group'\n",
    ")\n",
    "fig = Figure(data=data, layout=layout)\n",
    "iplot(fig, filename='error-bar-bar')"
   ]
  },
  {
   "cell_type": "code",
   "execution_count": null,
   "metadata": {
    "collapsed": true
   },
   "outputs": [],
   "source": []
  }
 ],
 "metadata": {
  "kernelspec": {
   "display_name": "Python 2",
   "language": "python",
   "name": "python2"
  },
  "language_info": {
   "codemirror_mode": {
    "name": "ipython",
    "version": 2
   },
   "file_extension": ".py",
   "mimetype": "text/x-python",
   "name": "python",
   "nbconvert_exporter": "python",
   "pygments_lexer": "ipython2",
   "version": "2.7.12"
  }
 },
 "nbformat": 4,
 "nbformat_minor": 0
}
