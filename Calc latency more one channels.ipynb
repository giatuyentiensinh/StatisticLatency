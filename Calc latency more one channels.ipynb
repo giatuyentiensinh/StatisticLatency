{
 "cells": [
  {
   "cell_type": "code",
   "execution_count": 1,
   "metadata": {
    "collapsed": true
   },
   "outputs": [],
   "source": [
    "import os\n",
    "os.environ['PYSPARK_PYTHON'] = '/opt/conda/envs/python2/bin/python'"
   ]
  },
  {
   "cell_type": "code",
   "execution_count": 2,
   "metadata": {
    "collapsed": true
   },
   "outputs": [],
   "source": [
    "import pyspark\n",
    "from pyspark.sql import SQLContext, Row\n",
    "from pyspark import SparkContext\n",
    "import numpy as np\n",
    "sc = SparkContext('local[*]')"
   ]
  },
  {
   "cell_type": "code",
   "execution_count": 3,
   "metadata": {
    "collapsed": false
   },
   "outputs": [
    {
     "data": {
      "text/html": [
       "<script>requirejs.config({paths: { 'plotly': ['https://cdn.plot.ly/plotly-latest.min']},});if(!window.Plotly) {{require(['plotly'],function(plotly) {window.Plotly=plotly;});}}</script>"
      ],
      "text/plain": [
       "<IPython.core.display.HTML object>"
      ]
     },
     "metadata": {},
     "output_type": "display_data"
    }
   ],
   "source": [
    "import plotly\n",
    "from plotly.graph_objs import Scatter, Layout, Bar, Figure, Layout\n",
    "\n",
    "from plotly import __version__\n",
    "from plotly.offline import download_plotlyjs, init_notebook_mode, plot, iplot\n",
    "import numpy as np\n",
    "\n",
    "init_notebook_mode(connected=True)"
   ]
  },
  {
   "cell_type": "code",
   "execution_count": 4,
   "metadata": {
    "collapsed": false
   },
   "outputs": [
    {
     "name": "stderr",
     "output_type": "stream",
     "text": [
      "/opt/conda/envs/python2/lib/python2.7/site-packages/numpy/core/_methods.py:59: RuntimeWarning:\n",
      "\n",
      "Mean of empty slice.\n",
      "\n",
      "/opt/conda/envs/python2/lib/python2.7/site-packages/numpy/core/_methods.py:82: RuntimeWarning:\n",
      "\n",
      "Degrees of freedom <= 0 for slice\n",
      "\n"
     ]
    }
   ],
   "source": [
    "filenames = [\n",
    "            'orchestra_log_2_channel.csv', \n",
    "            'orchestra_log_3_channel.csv', \n",
    "            'orchestra_log_4_channel.csv', \n",
    "            'orchestra_log_5_channel.csv'\n",
    "           ]\n",
    "# filenames = [\n",
    "#             'rlm_log_2_channel.csv', \n",
    "#             'rlm_log_3_channel.csv', \n",
    "# #             'orchestra_log_4_channel.csv', \n",
    "#             'rlm_log_5_channel.csv'\n",
    "#            ]\n",
    "means2 = []\n",
    "stdevs2 = []\n",
    "means3 = []\n",
    "stdevs3 = []\n",
    "\n",
    "for filename in filenames:\n",
    "    tf = sc.textFile(filename)\n",
    "    rdd = tf.map(lambda x: (x.split(\";\")[0], x)).groupByKey().mapValues(list)\n",
    "    hopping2 = rdd.filter(lambda x: len(x[1]) == 2)\n",
    "    hopping3 = rdd.filter(lambda x: len(x[1]) == 3)\n",
    "\n",
    "    latency2 = hopping2.map(lambda x: int(x[1][1].split(\";\")[1]) - int(x[1][0].split(\";\")[1])).collect()\n",
    "    latency3 = hopping3.map(lambda x: int(x[1][2].split(\";\")[1]) - int(x[1][0].split(\";\")[1])).collect()\n",
    "    \n",
    "    means2.append(np.mean(latency2))\n",
    "    means3.append(np.mean(latency3))\n",
    "    stdevs2.append(np.std(latency2))\n",
    "    stdevs3.append(np.std(latency3))\n",
    "    "
   ]
  },
  {
   "cell_type": "code",
   "execution_count": 5,
   "metadata": {
    "collapsed": false
   },
   "outputs": [
    {
     "name": "stdout",
     "output_type": "stream",
     "text": [
      "means2  :  [504247.84507042251, 291426.39130434784, 521261.04918032786, 319624.04166666669]\n",
      "means3  :  [504247.84507042251, 291426.39130434784, 521261.04918032786, 319624.04166666669]\n",
      "stdevs2 :  [962496.63522418472, 319593.51447577483, 889209.25133147906, 402872.74823597417]\n",
      "stdevs3 :  [1408578.8025759957, 312171.4058159542, 894186.72768027452, nan]\n"
     ]
    }
   ],
   "source": [
    "print 'means2  : ', means2\n",
    "print 'means3  : ', means2\n",
    "print 'stdevs2 : ', stdevs2\n",
    "print 'stdevs3 : ', stdevs3"
   ]
  },
  {
   "cell_type": "code",
   "execution_count": 6,
   "metadata": {
    "collapsed": false
   },
   "outputs": [
    {
     "data": {
      "text/html": [
       "<div id=\"6dbec86b-8a34-42b0-8789-93b1a4095e5d\" style=\"height: 525px; width: 100%;\" class=\"plotly-graph-div\"></div><script type=\"text/javascript\">require([\"plotly\"], function(Plotly) { window.PLOTLYENV=window.PLOTLYENV || {};window.PLOTLYENV.BASE_URL=\"https://plot.ly\";Plotly.newPlot(\"6dbec86b-8a34-42b0-8789-93b1a4095e5d\", [{\"y\": [504247.8450704225, 291426.39130434784, 521261.04918032786, 319624.0416666667], \"x\": [\"orchestra_log_2_channel.csv\", \"orchestra_log_3_channel.csv\", \"orchestra_log_4_channel.csv\", \"orchestra_log_5_channel.csv\"], \"type\": \"bar\", \"error_y\": {\"visible\": true, \"array\": [962496.6352241847, 319593.51447577483, 889209.251331479, 402872.74823597417], \"type\": \"data\"}, \"name\": \"1 hopping\"}, {\"y\": [1101750.7272727273, 626136.1555555556, 884495.448275862, null], \"x\": [\"orchestra_log_2_channel.csv\", \"orchestra_log_3_channel.csv\", \"orchestra_log_4_channel.csv\", \"orchestra_log_5_channel.csv\"], \"type\": \"bar\", \"error_y\": {\"visible\": true, \"array\": [1408578.8025759957, 312171.4058159542, 894186.7276802745, null], \"type\": \"data\"}, \"name\": \"2 hopping\"}], {\"barmode\": \"group\"}, {\"linkText\": \"Export to plot.ly\", \"showLink\": true})});</script>"
      ],
      "text/plain": [
       "<IPython.core.display.HTML object>"
      ]
     },
     "metadata": {},
     "output_type": "display_data"
    }
   ],
   "source": [
    "trace1 = Bar(\n",
    "    x = filenames,\n",
    "    y = means2,\n",
    "    name='1 hopping',\n",
    "    error_y=dict(\n",
    "        type = 'data',\n",
    "        array = stdevs2,\n",
    "        visible = True\n",
    "    )\n",
    ")\n",
    "trace2 = Bar(\n",
    "    x = filenames,\n",
    "    y = means3,\n",
    "    name='2 hopping',\n",
    "    error_y=dict(\n",
    "        type = 'data',\n",
    "        array = stdevs3,\n",
    "        visible = True\n",
    "    )\n",
    ")\n",
    "\n",
    "data = [trace1, trace2]\n",
    "layout = Layout(\n",
    "    barmode='group'\n",
    ")\n",
    "fig = Figure(data=data, layout=layout)\n",
    "iplot(fig, filename='error-bar-bar')"
   ]
  },
  {
   "cell_type": "code",
   "execution_count": null,
   "metadata": {
    "collapsed": true
   },
   "outputs": [],
   "source": []
  }
 ],
 "metadata": {
  "kernelspec": {
   "display_name": "Python 2",
   "language": "python",
   "name": "python2"
  },
  "language_info": {
   "codemirror_mode": {
    "name": "ipython",
    "version": 2
   },
   "file_extension": ".py",
   "mimetype": "text/x-python",
   "name": "python",
   "nbconvert_exporter": "python",
   "pygments_lexer": "ipython2",
   "version": "2.7.12"
  }
 },
 "nbformat": 4,
 "nbformat_minor": 0
}
