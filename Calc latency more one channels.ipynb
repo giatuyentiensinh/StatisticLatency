{
 "cells": [
  {
   "cell_type": "code",
   "execution_count": 1,
   "metadata": {
    "collapsed": true
   },
   "outputs": [],
   "source": [
    "import os\n",
    "os.environ['PYSPARK_PYTHON'] = '/opt/conda/envs/python2/bin/python'"
   ]
  },
  {
   "cell_type": "code",
   "execution_count": 2,
   "metadata": {
    "collapsed": true
   },
   "outputs": [],
   "source": [
    "import pyspark\n",
    "from pyspark.sql import SQLContext, Row\n",
    "from pyspark import SparkContext\n",
    "sc = SparkContext('local[*]')"
   ]
  },
  {
   "cell_type": "code",
   "execution_count": 3,
   "metadata": {
    "collapsed": false
   },
   "outputs": [
    {
     "data": {
      "text/html": [
       "<script>requirejs.config({paths: { 'plotly': ['https://cdn.plot.ly/plotly-latest.min']},});if(!window.Plotly) {{require(['plotly'],function(plotly) {window.Plotly=plotly;});}}</script>"
      ],
      "text/plain": [
       "<IPython.core.display.HTML object>"
      ]
     },
     "metadata": {},
     "output_type": "display_data"
    }
   ],
   "source": [
    "import plotly\n",
    "from plotly.graph_objs import Scatter, Layout, Bar, Figure, Layout\n",
    "\n",
    "from plotly import __version__\n",
    "from plotly.offline import download_plotlyjs, init_notebook_mode, plot, iplot\n",
    "import numpy as np\n",
    "\n",
    "init_notebook_mode(connected=True)"
   ]
  },
  {
   "cell_type": "code",
   "execution_count": 9,
   "metadata": {
    "collapsed": false
   },
   "outputs": [
    {
     "name": "stdout",
     "output_type": "stream",
     "text": [
      "means2  :  [0.50424784507042253, 0.29142639130434783, 0.5212610491803279, 0.31962404166666669, 1.7543259324324325, 0.57806752459016397, 0.5212610491803279, 0.38884072916666668]\n",
      "stdevs2 :  [0.96249663522418472, 0.31959351447577483, 0.8892092513314791, 0.40287274823597419, 4.1765136659689706, 0.4226627289543457, 0.8892092513314791, 0.32987094762729685]\n",
      "means3  :  [1.1017507272727274, 0.62613615555555557, 0.88449544827586202, nan, 1.5898825000000001, nan, 0.88449544827586202, 0.74327255000000003]\n",
      "stdevs3 :  [1.4085788025759958, 0.31217140581595421, 0.89418672768027452, nan, 3.3206666989623708, nan, 0.89418672768027452, 0.49552290627421808]\n"
     ]
    }
   ],
   "source": [
    "filenames = [\n",
    "            'orchestra_log_2_channel.csv', \n",
    "            'orchestra_log_3_channel.csv', \n",
    "            'orchestra_log_4_channel.csv', \n",
    "            'orchestra_log_5_channel.csv'\n",
    "#            ]\n",
    "            ,\n",
    "# filenames = [\n",
    "            'rlm_log_2_channel.csv', \n",
    "            'rlm_log_3_channel.csv', \n",
    "            'orchestra_log_4_channel.csv', \n",
    "            'rlm_log_5_channel.csv'\n",
    "           ]\n",
    "means2 = []\n",
    "stdevs2 = []\n",
    "means3 = []\n",
    "stdevs3 = []\n",
    "\n",
    "for filename in filenames:\n",
    "    tf = sc.textFile(filename)\n",
    "    rdd = tf.map(lambda x: (x.split(\";\")[0], x)).groupByKey().mapValues(list)\n",
    "    hopping2 = rdd.filter(lambda x: len(x[1]) == 2)\n",
    "    hopping3 = rdd.filter(lambda x: len(x[1]) == 3)\n",
    "\n",
    "    latency2 = hopping2.map(lambda x: int(x[1][1].split(\";\")[1]) - int(x[1][0].split(\";\")[1])).collect()\n",
    "    latency3 = hopping3.map(lambda x: int(x[1][2].split(\";\")[1]) - int(x[1][0].split(\";\")[1])).collect()\n",
    "    \n",
    "    means2.append(np.mean(latency2) / 1000000)\n",
    "    means3.append(np.mean(latency3) / 1000000)\n",
    "    stdevs2.append(np.std(latency2) / 1000000)\n",
    "    stdevs3.append(np.std(latency3) / 1000000)\n",
    "    \n",
    "print 'means2  : ', means2\n",
    "print 'stdevs2 : ', stdevs2\n",
    "print 'means3  : ', means3\n",
    "print 'stdevs3 : ', stdevs3"
   ]
  },
  {
   "cell_type": "code",
   "execution_count": 8,
   "metadata": {
    "collapsed": false
   },
   "outputs": [
    {
     "data": {
      "text/html": [
       "<div id=\"6ec52568-99bb-4299-90bf-8070d477e96a\" style=\"height: 525px; width: 100%;\" class=\"plotly-graph-div\"></div><script type=\"text/javascript\">require([\"plotly\"], function(Plotly) { window.PLOTLYENV=window.PLOTLYENV || {};window.PLOTLYENV.BASE_URL=\"https://plot.ly\";Plotly.newPlot(\"6ec52568-99bb-4299-90bf-8070d477e96a\", [{\"y\": [0.5042478450704225, 0.29142639130434783, 0.5212610491803279, 0.3196240416666667, 1.7543259324324325, 0.578067524590164, 0.5212610491803279, 0.3888407291666667], \"x\": [\"orchestra_log_2_channel.csv\", \"orchestra_log_3_channel.csv\", \"orchestra_log_4_channel.csv\", \"orchestra_log_5_channel.csv\", \"rlm_log_2_channel.csv\", \"rlm_log_3_channel.csv\", \"orchestra_log_4_channel.csv\", \"rlm_log_5_channel.csv\"], \"type\": \"bar\", \"error_y\": {\"visible\": true, \"array\": [0.9624966352241847, 0.31959351447577483, 0.8892092513314791, 0.4028727482359742, 4.176513665968971, 0.4226627289543457, 0.8892092513314791, 0.32987094762729685], \"type\": \"data\"}, \"name\": \"1 hopping\"}, {\"y\": [1.1017507272727274, 0.6261361555555556, 0.884495448275862, null, 1.5898825, null, 0.884495448275862, 0.74327255], \"x\": [\"orchestra_log_2_channel.csv\", \"orchestra_log_3_channel.csv\", \"orchestra_log_4_channel.csv\", \"orchestra_log_5_channel.csv\", \"rlm_log_2_channel.csv\", \"rlm_log_3_channel.csv\", \"orchestra_log_4_channel.csv\", \"rlm_log_5_channel.csv\"], \"type\": \"bar\", \"error_y\": {\"visible\": true, \"array\": [1.4085788025759958, 0.3121714058159542, 0.8941867276802745, null, 3.3206666989623708, null, 0.8941867276802745, 0.4955229062742181], \"type\": \"data\"}, \"name\": \"2 hopping\"}], {\"barmode\": \"group\"}, {\"linkText\": \"Export to plot.ly\", \"showLink\": true})});</script>"
      ],
      "text/plain": [
       "<IPython.core.display.HTML object>"
      ]
     },
     "metadata": {},
     "output_type": "display_data"
    }
   ],
   "source": [
    "trace1 = Bar(\n",
    "    x = filenames,\n",
    "    y = means2,\n",
    "    name='1 hopping',\n",
    "    error_y=dict(\n",
    "        type = 'data',\n",
    "        array = stdevs2,\n",
    "        visible = True\n",
    "    )\n",
    ")\n",
    "trace2 = Bar(\n",
    "    x = filenames,\n",
    "    y = means3,\n",
    "    name='2 hopping',\n",
    "    error_y=dict(\n",
    "        type = 'data',\n",
    "        array = stdevs3,\n",
    "        visible = True\n",
    "    )\n",
    ")\n",
    "\n",
    "data = [trace1, trace2]\n",
    "layout = Layout(\n",
    "    barmode='group'\n",
    ")\n",
    "fig = Figure(data=data, layout=layout)\n",
    "iplot(fig, filename='error-bar-bar')"
   ]
  },
  {
   "cell_type": "code",
   "execution_count": null,
   "metadata": {
    "collapsed": true
   },
   "outputs": [],
   "source": []
  }
 ],
 "metadata": {
  "kernelspec": {
   "display_name": "Python 2",
   "language": "python",
   "name": "python2"
  },
  "language_info": {
   "codemirror_mode": {
    "name": "ipython",
    "version": 2
   },
   "file_extension": ".py",
   "mimetype": "text/x-python",
   "name": "python",
   "nbconvert_exporter": "python",
   "pygments_lexer": "ipython2",
   "version": "2.7.12"
  }
 },
 "nbformat": 4,
 "nbformat_minor": 0
}
