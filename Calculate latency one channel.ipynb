{
 "cells": [
  {
   "cell_type": "code",
   "execution_count": 1,
   "metadata": {
    "collapsed": true
   },
   "outputs": [],
   "source": [
    "import os\n",
    "os.environ['PYSPARK_PYTHON'] = '/opt/conda/envs/python2/bin/python'"
   ]
  },
  {
   "cell_type": "code",
   "execution_count": 2,
   "metadata": {
    "collapsed": false
   },
   "outputs": [],
   "source": [
    "import pyspark\n",
    "from pyspark.sql import SQLContext, Row\n",
    "from pyspark import SparkContext\n",
    "import numpy as np\n",
    "sc = SparkContext('local[*]')"
   ]
  },
  {
   "cell_type": "code",
   "execution_count": 3,
   "metadata": {
    "collapsed": true
   },
   "outputs": [],
   "source": [
    "tf = sc.textFile('rlm_log_5_channel.csv')"
   ]
  },
  {
   "cell_type": "code",
   "execution_count": 4,
   "metadata": {
    "collapsed": false
   },
   "outputs": [],
   "source": [
    "rdd = tf.map(lambda x: (x.split(\";\")[0], x))\n",
    "rdd2 = rdd.groupByKey().mapValues(list)"
   ]
  },
  {
   "cell_type": "code",
   "execution_count": 5,
   "metadata": {
    "collapsed": true
   },
   "outputs": [
    {
     "data": {
      "text/plain": [
       "[(u'Hello 6 from the client 5',\n",
       "  [u'Hello 6 from the client 5;270417294;5',\n",
       "   u'Hello 6 from the client 5;270686712;1']),\n",
       " (u'Hello 14 from the client 7', [u'Hello 14 from the client 7;497480105;7']),\n",
       " (u'Hello 13 from the client 4', [u'Hello 13 from the client 4;468675767;4'])]"
      ]
     },
     "execution_count": 5,
     "metadata": {},
     "output_type": "execute_result"
    }
   ],
   "source": [
    "rdd2.take(3)"
   ]
  },
  {
   "cell_type": "code",
   "execution_count": 6,
   "metadata": {
    "collapsed": false
   },
   "outputs": [],
   "source": [
    "hopping2 = rdd2.filter(lambda x: len(x[1]) == 2)\n",
    "hopping3 = rdd2.filter(lambda x: len(x[1]) == 3)"
   ]
  },
  {
   "cell_type": "code",
   "execution_count": 7,
   "metadata": {
    "collapsed": true
   },
   "outputs": [
    {
     "data": {
      "text/plain": [
       "[(u'Hello 6 from the client 5',\n",
       "  [u'Hello 6 from the client 5;270417294;5',\n",
       "   u'Hello 6 from the client 5;270686712;1']),\n",
       " (u'Hello 14 from the client 5',\n",
       "  [u'Hello 14 from the client 5;500956587;5',\n",
       "   u'Hello 14 from the client 5;501071454;1']),\n",
       " (u'Hello 14 from the client 3',\n",
       "  [u'Hello 14 from the client 3;500101745;3',\n",
       "   u'Hello 14 from the client 3;500230643;1'])]"
      ]
     },
     "execution_count": 7,
     "metadata": {},
     "output_type": "execute_result"
    }
   ],
   "source": [
    "hopping2.take(3)"
   ]
  },
  {
   "cell_type": "code",
   "execution_count": 8,
   "metadata": {
    "collapsed": false
   },
   "outputs": [
    {
     "data": {
      "text/plain": [
       "[(u'Hello 6 from the client 7',\n",
       "  [u'Hello 6 from the client 7;257049258;7',\n",
       "   u'Hello 6 from the client 7;258180051;9',\n",
       "   u'Hello 6 from the client 7;258915193;1']),\n",
       " (u'Hello 17 from the client 8',\n",
       "  [u'Hello 17 from the client 8;594142364;8',\n",
       "   u'Hello 17 from the client 8;594192920;3',\n",
       "   u'Hello 17 from the client 8;594402592;1']),\n",
       " (u'Hello 7 from the client 4',\n",
       "  [u'Hello 7 from the client 4;286511726;4',\n",
       "   u'Hello 7 from the client 4;286557567;9',\n",
       "   u'Hello 7 from the client 4;286662475;1'])]"
      ]
     },
     "execution_count": 8,
     "metadata": {},
     "output_type": "execute_result"
    }
   ],
   "source": [
    "hopping3.take(3)"
   ]
  },
  {
   "cell_type": "code",
   "execution_count": 9,
   "metadata": {
    "collapsed": false
   },
   "outputs": [],
   "source": [
    "latency2 = hopping2.map(lambda x: int(x[1][1].split(\";\")[1]) - int(x[1][0].split(\";\")[1])).collect()"
   ]
  },
  {
   "cell_type": "code",
   "execution_count": 10,
   "metadata": {
    "collapsed": false
   },
   "outputs": [],
   "source": [
    "latency3 = hopping3.map(lambda x: int(x[1][2].split(\";\")[1]) - int(x[1][0].split(\";\")[1])).collect()"
   ]
  },
  {
   "cell_type": "code",
   "execution_count": 11,
   "metadata": {
    "collapsed": false,
    "scrolled": true
   },
   "outputs": [
    {
     "name": "stdout",
     "output_type": "stream",
     "text": [
      "mean latency 2: 388840.729167\n",
      "mean latency 3: 743272.550000\n",
      "Standard deviation latency 2: 329870.947627\n",
      "Standard deviation latency 3: 495522.906274\n"
     ]
    }
   ],
   "source": [
    "print 'mean latency 2: %f' % np.mean(latency2)\n",
    "print 'mean latency 3: %f' % np.mean(latency3)\n",
    "print 'Standard deviation latency 2: %f' % np.std(latency2)\n",
    "print 'Standard deviation latency 3: %f' % np.std(latency3)\n"
   ]
  },
  {
   "cell_type": "code",
   "execution_count": 12,
   "metadata": {
    "collapsed": false
   },
   "outputs": [
    {
     "data": {
      "text/html": [
       "<script>requirejs.config({paths: { 'plotly': ['https://cdn.plot.ly/plotly-latest.min']},});if(!window.Plotly) {{require(['plotly'],function(plotly) {window.Plotly=plotly;});}}</script>"
      ],
      "text/plain": [
       "<IPython.core.display.HTML object>"
      ]
     },
     "metadata": {},
     "output_type": "display_data"
    }
   ],
   "source": [
    "import plotly\n",
    "from plotly.graph_objs import Scatter, Layout, Bar, Figure, Layout\n",
    "\n",
    "from plotly import __version__\n",
    "from plotly.offline import download_plotlyjs, init_notebook_mode, plot, iplot\n",
    "import numpy as np\n",
    "\n",
    "init_notebook_mode(connected=True)"
   ]
  },
  {
   "cell_type": "code",
   "execution_count": 13,
   "metadata": {
    "collapsed": false
   },
   "outputs": [
    {
     "data": {
      "text/html": [
       "<div id=\"71367c84-5179-43dd-bbaa-4fca3d97ed47\" style=\"height: 525px; width: 100%;\" class=\"plotly-graph-div\"></div><script type=\"text/javascript\">require([\"plotly\"], function(Plotly) { window.PLOTLYENV=window.PLOTLYENV || {};window.PLOTLYENV.BASE_URL=\"https://plot.ly\";Plotly.newPlot(\"71367c84-5179-43dd-bbaa-4fca3d97ed47\", [{\"y\": [388840.7291666667, 743272.55], \"x\": [\"2 Hop\", \"3 Hop\"], \"type\": \"bar\", \"error_y\": {\"visible\": true, \"array\": [329870.94762729685, 495522.90627421805], \"type\": \"data\"}, \"name\": \"Control\"}], {\"barmode\": \"group\"}, {\"linkText\": \"Export to plot.ly\", \"showLink\": true})});</script>"
      ],
      "text/plain": [
       "<IPython.core.display.HTML object>"
      ]
     },
     "metadata": {},
     "output_type": "display_data"
    }
   ],
   "source": [
    "trace1 = Bar(\n",
    "    x=['2 Hop', '3 Hop',],\n",
    "    y=[np.mean(latency2), np.mean(latency3)],\n",
    "    name='Control',\n",
    "    error_y=dict(\n",
    "        type='data',\n",
    "        array=[np.std(latency2), np.std(latency3)],\n",
    "        visible=True\n",
    "    )\n",
    ")\n",
    "\n",
    "data = [trace1]\n",
    "layout = Layout(\n",
    "    barmode='group'\n",
    ")\n",
    "fig = Figure(data=data, layout=layout)\n",
    "iplot(fig, filename='error-bar-bar')"
   ]
  }
 ],
 "metadata": {
  "kernelspec": {
   "display_name": "Python 2",
   "language": "python",
   "name": "python2"
  },
  "language_info": {
   "codemirror_mode": {
    "name": "ipython",
    "version": 2
   },
   "file_extension": ".py",
   "mimetype": "text/x-python",
   "name": "python",
   "nbconvert_exporter": "python",
   "pygments_lexer": "ipython2",
   "version": "2.7.12"
  }
 },
 "nbformat": 4,
 "nbformat_minor": 0
}
